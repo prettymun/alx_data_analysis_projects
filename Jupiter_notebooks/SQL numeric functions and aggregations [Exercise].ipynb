{
 "cells": [
  {
   "attachments": {},
   "cell_type": "markdown",
   "id": "f662d169",
   "metadata": {},
   "source": [
    "# SQL numeric functions and aggregations"
   ]
  },
  {
   "attachments": {},
   "cell_type": "markdown",
   "id": "26af890c",
   "metadata": {},
   "source": [
    "In this exercise, we will apply SQL numeric functions and aggregations to query a few tables in our Northwind database. Ensure that you have downloaded the database file, Northwind.db."
   ]
  },
  {
   "attachments": {},
   "cell_type": "markdown",
   "id": "7fd5e3b8",
   "metadata": {},
   "source": [
    "First, let's load our sample database:"
   ]
  },
  {
   "cell_type": "code",
   "execution_count": null,
   "id": "2d0d820e",
   "metadata": {},
   "outputs": [],
   "source": [
    "# Load and activate the SQL extension to allow us to execute SQL in a Jupyter notebook.\n",
    "%load_ext sql\n"
   ]
  },
  {
   "cell_type": "code",
   "execution_count": null,
   "id": "599e3c6c",
   "metadata": {},
   "outputs": [],
   "source": [
    "# Load the Northwind database stored in your local machine. \n",
    "# Make sure the file is saved in the same folder as this notebook.\n",
    "%sql sqlite:///Northwind.db\n",
    "    "
   ]
  },
  {
   "attachments": {},
   "cell_type": "markdown",
   "id": "06af8b46",
   "metadata": {},
   "source": [
    "Here is a view of all of our tables in the database:"
   ]
  },
  {
   "attachments": {},
   "cell_type": "markdown",
   "id": "6ed1f036",
   "metadata": {},
   "source": [
    "<div align=\"center\" style=\" font-size: 80%; text-align: center; margin: 0 auto\">\n",
    "<img src=\"https://raw.githubusercontent.com/Explore-AI/Pictures/master/Northwind_ERD.png\"  style=\"width:500px\";/>\n",
    "<br>\n",
    "<br>\n",
    "    <em>Figure 1: Northwind ERD</em>\n",
    "</div>"
   ]
  },
  {
   "attachments": {},
   "cell_type": "markdown",
   "id": "920e89d2",
   "metadata": {},
   "source": [
    "## Exercise\n",
    "\n",
    "Run the necessary queries that will provide us with the following information. Compare your queries with the solutions at the end of this notebook."
   ]
  },
  {
   "attachments": {},
   "cell_type": "markdown",
   "id": "466e53c1",
   "metadata": {},
   "source": [
    "### Exercise 1\n",
    "\n",
    "Display the average unit price of products in the 'Products' table."
   ]
  },
  {
   "attachments": {},
   "cell_type": "markdown",
   "id": "86802726",
   "metadata": {},
   "source": [
    "### Exercise 2\n",
    "\n",
    "\n",
    "Show the total quantity of products sold for each ProductID. Use the 'OrderDetails' table."
   ]
  },
  {
   "attachments": {},
   "cell_type": "markdown",
   "id": "f0fade51",
   "metadata": {},
   "source": [
    "### Exercise 3\n",
    "\n",
    "\n",
    "Find the maximum, minimum, and average freight from the 'Orders' table."
   ]
  },
  {
   "attachments": {},
   "cell_type": "markdown",
   "id": "f28aef00",
   "metadata": {},
   "source": [
    "### Exercise 4\n",
    "\n",
    "How many unique customers have made orders? Use the 'Orders' table."
   ]
  },
  {
   "attachments": {},
   "cell_type": "markdown",
   "id": "ca92cba7",
   "metadata": {},
   "source": [
    "### Exercise 5\n",
    "\n",
    "What is the total price for each order? You need to multiply the unit price by the quantity and subtract the discount for each order detail, then sum all the order details for each order. Use the 'OrderDetails' table."
   ]
  },
  {
   "attachments": {},
   "cell_type": "markdown",
   "id": "7a51093c",
   "metadata": {},
   "source": [
    "### Challenge question\n",
    "\n",
    "What are the 5 largest orders processed? (Hint: Use the 'OrderDetails' table.)"
   ]
  },
  {
   "attachments": {},
   "cell_type": "markdown",
   "id": "b3c88335",
   "metadata": {},
   "source": [
    "## Solutions"
   ]
  },
  {
   "attachments": {},
   "cell_type": "markdown",
   "id": "a5084b12",
   "metadata": {},
   "source": [
    "### Exercise 1"
   ]
  },
  {
   "cell_type": "code",
   "execution_count": null,
   "id": "c968d875",
   "metadata": {
    "scrolled": true
   },
   "outputs": [],
   "source": [
    "%%sql\n",
    "\n",
    "SELECT \n",
    "    AVG(UnitPrice) \n",
    "FROM \n",
    "    Products;"
   ]
  },
  {
   "attachments": {},
   "cell_type": "markdown",
   "id": "294d8eef",
   "metadata": {},
   "source": [
    "### Exercise 2"
   ]
  },
  {
   "cell_type": "code",
   "execution_count": null,
   "id": "03071e34",
   "metadata": {},
   "outputs": [],
   "source": [
    "%%sql\n",
    "\n",
    "SELECT \n",
    "    ProductID,\n",
    "    SUM(Quantity) as TotalQuantity\n",
    "FROM \n",
    "    OrderDetails\n",
    "GROUP BY \n",
    "    ProductID;\n"
   ]
  },
  {
   "attachments": {},
   "cell_type": "markdown",
   "id": "eafe40b6",
   "metadata": {},
   "source": [
    "### Exercise 3"
   ]
  },
  {
   "cell_type": "code",
   "execution_count": null,
   "id": "1ffd2239",
   "metadata": {},
   "outputs": [],
   "source": [
    "%%sql\n",
    "\n",
    "SELECT \n",
    "    MAX(Freight) as MaxFreight,\n",
    "    MIN(Freight) as MinFreight,\n",
    "    AVG(Freight) as AvgFreight\n",
    "FROM \n",
    "    Orders;\n"
   ]
  },
  {
   "attachments": {},
   "cell_type": "markdown",
   "id": "e9956efe",
   "metadata": {},
   "source": [
    "### Exercise 4"
   ]
  },
  {
   "cell_type": "code",
   "execution_count": null,
   "id": "cd662edc",
   "metadata": {},
   "outputs": [],
   "source": [
    "%%sql\n",
    "\n",
    "SELECT \n",
    "    COUNT(DISTINCT CustomerID) \n",
    "FROM \n",
    "    Orders;"
   ]
  },
  {
   "attachments": {},
   "cell_type": "markdown",
   "id": "dee904e7",
   "metadata": {},
   "source": [
    "### Exercise 5"
   ]
  },
  {
   "cell_type": "code",
   "execution_count": null,
   "id": "ac14f515",
   "metadata": {},
   "outputs": [],
   "source": [
    "%%sql\n",
    "\n",
    "SELECT \n",
    "    OrderID, \n",
    "    SUM(UnitPrice * Quantity * (1 - Discount)) as TotalPrice \n",
    "FROM \n",
    "    OrderDetails\n",
    "GROUP BY \n",
    "    OrderID;"
   ]
  },
  {
   "attachments": {},
   "cell_type": "markdown",
   "id": "c1341a11",
   "metadata": {},
   "source": [
    "### Challenge question"
   ]
  },
  {
   "cell_type": "code",
   "execution_count": null,
   "id": "9a0cf068",
   "metadata": {},
   "outputs": [],
   "source": [
    "%%sql\n",
    "\n",
    "SELECT \n",
    "    OrderID, \n",
    "    SUM(Quantity) as TotalQuantity \n",
    "FROM \n",
    "    OrderDetails\n",
    "GROUP BY \n",
    "    OrderID\n",
    "ORDER BY \n",
    "    TotalQuantity DESC \n",
    "LIMIT 5;"
   ]
  }
 ],
 "metadata": {
  "kernelspec": {
   "display_name": "Python 3 (ipykernel)",
   "language": "python",
   "name": "python3"
  },
  "language_info": {
   "codemirror_mode": {
    "name": "ipython",
    "version": 3
   },
   "file_extension": ".py",
   "mimetype": "text/x-python",
   "name": "python",
   "nbconvert_exporter": "python",
   "pygments_lexer": "ipython3",
   "version": "3.12.11"
  }
 },
 "nbformat": 4,
 "nbformat_minor": 5
}
