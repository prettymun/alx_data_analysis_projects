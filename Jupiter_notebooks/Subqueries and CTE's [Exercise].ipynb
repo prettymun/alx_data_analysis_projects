{
 "cells": [
  {
   "cell_type": "markdown",
   "id": "51b1254d",
   "metadata": {},
   "source": [
    "<div align=\"right\" style=\" font-size: 80%; text-align: center; margin: 0 auto\">\n",
    "<img\n",
    " src=\"https://raw.githubusercontent.com/Explore-AI/Pictures/master/alx-courses/aice/assets/Content_page_banner_blue_dots.png\"\n",
    " alt=\"ALX Content Header\"\n",
    " class=\"full-width-image\"\n",
    "/>\n",
    "</div>"
   ]
  },
  {
   "attachments": {},
   "cell_type": "markdown",
   "id": "f662d169",
   "metadata": {},
   "source": [
    "# Subqueries and CTEs"
   ]
  },
  {
   "cell_type": "markdown",
   "id": "26af890c",
   "metadata": {},
   "source": [
    "In this exercise, we will apply subqueries and CTEs in different parts of a query and for different use cases. Ensure that you have downloaded the database file, Northwind.db."
   ]
  },
  {
   "cell_type": "code",
   "execution_count": null,
   "id": "2d0d820e",
   "metadata": {},
   "outputs": [],
   "source": [
    "# Load and activate the SQL extension to allow us to execute SQL in a Jupyter notebook.\n",
    "%load_ext sql\n"
   ]
  },
  {
   "cell_type": "code",
   "execution_count": null,
   "id": "599e3c6c",
   "metadata": {},
   "outputs": [],
   "source": [
    "# Load the Northwind database stored in your local machine. \n",
    "# Make sure the file is saved in the same folder as this notebook.\n",
    "%sql sqlite:///Northwind.db\n",
    "    "
   ]
  },
  {
   "cell_type": "markdown",
   "id": "06af8b46",
   "metadata": {},
   "source": [
    "Here is a view of all of our tables in the database:"
   ]
  },
  {
   "cell_type": "markdown",
   "id": "6ed1f036",
   "metadata": {},
   "source": [
    "<div align=\"center\" style=\" font-size: 80%; text-align: center; margin: 0 auto\">\n",
    "<img src=\"https://raw.githubusercontent.com/Explore-AI/Pictures/master/Northwind_ERD.png\"  style=\"width:500px\";/>\n",
    "<br>\n",
    "<br>\n",
    "    <em>Figure 1: Northwind ERD</em>\n",
    "</div>"
   ]
  },
  {
   "cell_type": "markdown",
   "id": "920e89d2",
   "metadata": {},
   "source": [
    "## Exercise\n",
    "\n",
    "Run the necessary queries that will provide us with the following information. Compare your queries with the solutions at the end of this notebook."
   ]
  },
  {
   "cell_type": "markdown",
   "id": "466e53c1",
   "metadata": {},
   "source": [
    "### Exercise 1\n",
    "\n",
    "Retrieve product details from products that have been ordered by customers from the UK."
   ]
  },
  {
   "cell_type": "markdown",
   "id": "86802726",
   "metadata": {},
   "source": [
    "### Exercise 2\n",
    "\n",
    "\n",
    "Find out the names of customers who have ordered products of more than the average order value."
   ]
  },
  {
   "cell_type": "markdown",
   "id": "f0fade51",
   "metadata": {},
   "source": [
    "### Exercise 3\n",
    "\n",
    "\n",
    "Write a CTE to find the most ordered product by each customer."
   ]
  },
  {
   "cell_type": "markdown",
   "id": "f28aef00",
   "metadata": {},
   "source": [
    "### Exercise 4\n",
    "\n",
    "Using a CTE, list employees who have more than the average number of reports."
   ]
  },
  {
   "cell_type": "markdown",
   "id": "b3c88335",
   "metadata": {},
   "source": [
    "## Solutions"
   ]
  },
  {
   "cell_type": "markdown",
   "id": "a5084b12",
   "metadata": {},
   "source": [
    "### Exercise 1"
   ]
  },
  {
   "cell_type": "markdown",
   "id": "a7c42199",
   "metadata": {},
   "source": [
    "SQL solution with a subquery:"
   ]
  },
  {
   "cell_type": "code",
   "execution_count": null,
   "id": "c968d875",
   "metadata": {
    "scrolled": true
   },
   "outputs": [],
   "source": [
    "%%sql\n",
    "\n",
    "SELECT customers.*\n",
    "FROM customers\n",
    "WHERE customers.CustomerID IN (\n",
    "    SELECT orders.CustomerID\n",
    "    FROM orders\n",
    "    GROUP BY orders.CustomerID\n",
    "    ORDER BY COUNT(*) DESC\n",
    "    LIMIT 1\n",
    ");"
   ]
  },
  {
   "cell_type": "markdown",
   "id": "783fcd52",
   "metadata": {},
   "source": [
    "SQL solution with a CTE:"
   ]
  },
  {
   "cell_type": "code",
   "execution_count": null,
   "id": "4ab68a44",
   "metadata": {},
   "outputs": [],
   "source": [
    "%%sql\n",
    "\n",
    "WITH most_orders AS (\n",
    "    SELECT orders.CustomerID\n",
    "    FROM orders\n",
    "    GROUP BY orders.CustomerID\n",
    "    ORDER BY COUNT(*) DESC\n",
    "    LIMIT 1\n",
    ")\n",
    "SELECT customers.*\n",
    "FROM customers\n",
    "JOIN most_orders\n",
    "ON customers.CustomerID = most_orders.CustomerID;"
   ]
  },
  {
   "cell_type": "markdown",
   "id": "c17e4388",
   "metadata": {},
   "source": [
    "Both solutions will return the customer with the most orders. The subquery solution nests the logic inside the main query, which can become difficult to read for more complex queries. The CTE solution separates the logic into a different part of the query, which can be more readable, especially for more complex queries."
   ]
  },
  {
   "cell_type": "markdown",
   "id": "294d8eef",
   "metadata": {},
   "source": [
    "### Exercise 2"
   ]
  },
  {
   "cell_type": "code",
   "execution_count": null,
   "id": "03071e34",
   "metadata": {},
   "outputs": [],
   "source": [
    "%%sql\n",
    "\n",
    "WITH avg_order_value AS (\n",
    "    SELECT AVG(OrderDetails.UnitPrice * OrderDetails.Quantity) AS average_value\n",
    "    FROM OrderDetails\n",
    ")\n",
    "SELECT DISTINCT customers.CompanyName\n",
    "FROM customers\n",
    "JOIN orders ON customers.CustomerID = orders.CustomerID\n",
    "JOIN OrderDetails ON orders.OrderID = OrderDetails.OrderID\n",
    "WHERE (OrderDetails.UnitPrice * OrderDetails.Quantity) > (SELECT average_value FROM avg_order_value);\n"
   ]
  },
  {
   "cell_type": "markdown",
   "id": "eafe40b6",
   "metadata": {},
   "source": [
    "### Exercise 3"
   ]
  },
  {
   "cell_type": "code",
   "execution_count": null,
   "id": "1ffd2239",
   "metadata": {},
   "outputs": [],
   "source": [
    "%%sql\n",
    "\n",
    "WITH most_ordered_products AS (\n",
    "    SELECT customers.CustomerID, OrderDetails.ProductID, COUNT(*) AS order_count\n",
    "    FROM customers\n",
    "    JOIN orders ON customers.CustomerID = orders.CustomerID\n",
    "    JOIN OrderDetails ON orders.OrderID = OrderDetails.OrderID\n",
    "    GROUP BY customers.CustomerID, OrderDetails.ProductID\n",
    ")\n",
    "SELECT customers.CompanyName, products.ProductName, max_order_count\n",
    "FROM (\n",
    "    SELECT CustomerID, MAX(order_count) AS max_order_count\n",
    "    FROM most_ordered_products\n",
    "    GROUP BY CustomerID\n",
    ") AS max_order_count\n",
    "JOIN most_ordered_products ON max_order_count.CustomerID = most_ordered_products.CustomerID AND max_order_count.max_order_count = most_ordered_products.order_count\n",
    "JOIN customers ON most_ordered_products.CustomerID = customers.CustomerID\n",
    "JOIN products ON most_ordered_products.ProductID = products.ProductID;\n"
   ]
  },
  {
   "cell_type": "markdown",
   "id": "e9956efe",
   "metadata": {},
   "source": [
    "### Exercise 4"
   ]
  },
  {
   "cell_type": "code",
   "execution_count": null,
   "id": "cd662edc",
   "metadata": {},
   "outputs": [],
   "source": [
    "%%sql\n",
    "\n",
    "WITH avg_reports AS (\n",
    "    SELECT AVG(report_count) AS average_count\n",
    "    FROM (\n",
    "        SELECT COUNT(*) AS report_count\n",
    "        FROM employees\n",
    "        JOIN employees AS reports ON employees.EmployeeID = reports.ReportsTo\n",
    "        GROUP BY employees.EmployeeID\n",
    "    ) AS report_counts\n",
    ")\n",
    "SELECT employees.*\n",
    "FROM employees\n",
    "JOIN employees AS reports ON employees.EmployeeID = reports.ReportsTo\n",
    "GROUP BY employees.EmployeeID\n",
    "HAVING COUNT(*) > (SELECT average_count FROM avg_reports);"
   ]
  }
 ],
 "metadata": {
  "kernelspec": {
   "display_name": "Python 3 (ipykernel)",
   "language": "python",
   "name": "python3"
  },
  "language_info": {
   "codemirror_mode": {
    "name": "ipython",
    "version": 3
   },
   "file_extension": ".py",
   "mimetype": "text/x-python",
   "name": "python",
   "nbconvert_exporter": "python",
   "pygments_lexer": "ipython3",
   "version": "3.12.11"
  }
 },
 "nbformat": 4,
 "nbformat_minor": 5
}
