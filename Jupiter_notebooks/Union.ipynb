{
 "cells": [
  {
   "cell_type": "markdown",
   "id": "f662d169",
   "metadata": {},
   "source": [
    "# Union"
   ]
  },
  {
   "cell_type": "markdown",
   "id": "26af890c",
   "metadata": {},
   "source": [
    "In this exercise, we will explore different SQL union statements in order to cross-examine data contained in multiple tables in a dataset.\n",
    "\n"
   ]
  },
  {
   "cell_type": "markdown",
   "id": "5a0b7683",
   "metadata": {
    "tags": []
   },
   "source": [
    "First, let's load our database:"
   ]
  },
  {
   "cell_type": "code",
   "execution_count": null,
   "id": "0f34ea72",
   "metadata": {},
   "outputs": [],
   "source": [
    "# Load and activate the SQL extension to allow us to execute SQL in a Jupyter notebook.\n",
    "%load_ext sql\n",
    "\n",
    "# Establish a connection to a SQLite database file.\n",
    "%sql sqlite:///chinook.db"
   ]
  },
  {
   "cell_type": "markdown",
   "id": "0041b6f6",
   "metadata": {},
   "source": [
    "<div align=\"center\" style=\" font-size: 80%; text-align: center; margin: 0 auto\">\n",
    "<img src=\"https://raw.githubusercontent.com/Explore-AI/Pictures/master/The%20chinook%20database%20ERD.jpeg\"  style=\"width:70%\";/>\n",
    "<br>\n",
    "<br>\n",
    "    <em>Figure 1: The Chinook database ERD</em>\n",
    "</div>\n",
    "\n",
    " <em> <a href=\"https://www.sqlitetutorial.net/sqlite-sample-database/\">Image source</a></em>"
   ]
  },
  {
   "cell_type": "markdown",
   "id": "920e89d2",
   "metadata": {
    "tags": []
   },
   "source": [
    "## Exercises\n"
   ]
  },
  {
   "cell_type": "markdown",
   "id": "86802726",
   "metadata": {},
   "source": [
    "### Exercise 1\n",
    "\n",
    "Use the `UNION` operator to combine information from the tracks and albums tables into a single list. "
   ]
  },
  {
   "cell_type": "markdown",
   "id": "f0fade51",
   "metadata": {},
   "source": [
    "### Exercise 2\n",
    "\n",
    "In some cases, artists will create eponymous albums, i.e. albums with the same name as the artist. Write a query that will highlight all eponymous albums as well as non-eponymous albums.\n",
    "\n",
    "\n",
    "**NOTE**: At the moment, SQLite does not support the `FULL OUTER JOIN` statement. Emulate it using a `LEFT JOIN` and a `UNION` operator."
   ]
  },
  {
   "cell_type": "markdown",
   "id": "b3c88335",
   "metadata": {
    "tags": []
   },
   "source": [
    "## Solutions"
   ]
  },
  {
   "cell_type": "markdown",
   "id": "a5084b12",
   "metadata": {
    "tags": []
   },
   "source": [
    "### Exercise 1\n",
    "\n",
    "The SQL query uses the `UNION` operator to merge data from two tables, `tracks` and `albums`, into a single list. It selects the `AlbumId` and `Name` columns from the `tracks` table with a \"Category\" label of \"Artist\" and combines it with the `AlbumId` and `Title` columns from the `albums` table with a \"Category\" label of \"Album\". The `LIMIT 10` clause is used to restrict the output to the first 10 results."
   ]
  },
  {
   "cell_type": "code",
   "execution_count": null,
   "id": "c968d875",
   "metadata": {},
   "outputs": [],
   "source": [
    "%%sql\n",
    "\n",
    "SELECT t.AlbumId, t.Name, \"Artist\" AS \"Category\"\n",
    "FROM tracks AS t\n",
    "\n",
    "UNION\n",
    "\n",
    "SELECT a.AlbumId, a.Title, \"Album\" AS \"Category\"\n",
    "FROM albums AS a\n",
    "\n",
    "LIMIT 10;  -- Remove this line to see the full query output"
   ]
  },
  {
   "cell_type": "markdown",
   "id": "294d8eef",
   "metadata": {},
   "source": [
    "### Exercise 2\n",
    "\n",
    "The SQL query retrieves a list of artist names and album titles, highlighting both eponymous albums (albums with the same name as the artist) and non-eponymous albums. It achieves this by using a combination of `LEFT JOIN` and `UNION ALL` to combine the results of two separate queries. The first query joins the `artists` and `albums` tables by matching the artist's name with the album title, while the second query joins the `albums` and `artists` tables with the same condition. This approach effectively emulates a `FULL OUTER JOIN`, ensuring that all eponymous and non-eponymous albums are included in the final result."
   ]
  },
  {
   "cell_type": "code",
   "execution_count": null,
   "id": "03071e34",
   "metadata": {},
   "outputs": [],
   "source": [
    "%%sql\n",
    "\n",
    "SELECT \n",
    "    ar.Name, \n",
    "    a.Title\n",
    "FROM \n",
    "    artists ar\n",
    "LEFT JOIN \n",
    "    albums AS a\n",
    "    ON ar.Name = a.Title\n",
    "\n",
    "UNION ALL\n",
    "\n",
    "SELECT \n",
    "    ar.Name, \n",
    "    a.Title\n",
    "FROM \n",
    "    albums AS a\n",
    "LEFT JOIN \n",
    "    artists AS ar\n",
    "    ON ar.Name = a.Title\n",
    "\n",
    "LIMIT 10;  -- Remove this line to see the full query output"
   ]
  }
 ],
 "metadata": {
  "kernelspec": {
   "display_name": "Python 3 (ipykernel)",
   "language": "python",
   "name": "python3"
  },
  "language_info": {
   "codemirror_mode": {
    "name": "ipython",
    "version": 3
   },
   "file_extension": ".py",
   "mimetype": "text/x-python",
   "name": "python",
   "nbconvert_exporter": "python",
   "pygments_lexer": "ipython3",
   "version": "3.12.11"
  }
 },
 "nbformat": 4,
 "nbformat_minor": 5
}
