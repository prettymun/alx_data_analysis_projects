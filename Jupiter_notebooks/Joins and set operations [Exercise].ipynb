{
 "cells": [
  {
   "cell_type": "markdown",
   "id": "f662d169",
   "metadata": {},
   "source": [
    "# Joins and set operations"
   ]
  },
  {
   "cell_type": "markdown",
   "id": "26af890c",
   "metadata": {},
   "source": [
    "In this exercise, we will use the skills we have learned so far to solve complex problems that involve string manipulation and handling.\n",
    "\n"
   ]
  },
  {
   "cell_type": "markdown",
   "id": "5a0b7683",
   "metadata": {
    "tags": []
   },
   "source": [
    "First, let's load our sample database:"
   ]
  },
  {
   "cell_type": "code",
   "execution_count": null,
   "id": "0f34ea72",
   "metadata": {},
   "outputs": [],
   "source": [
    "# Load and activate the SQL extension to allow us to execute SQL in a Jupyter notebook.\n",
    "%load_ext sql"
   ]
  },
  {
   "cell_type": "code",
   "execution_count": null,
   "id": "d279a04d",
   "metadata": {},
   "outputs": [],
   "source": [
    "# Load the Northwind database stored in your local machine. \n",
    "# Make sure the file is saved in the same folder as this notebook.\n",
    "%sql sqlite:///Northwind.db"
   ]
  },
  {
   "cell_type": "markdown",
   "id": "6f8bbc0b-c31c-4274-ad13-399a9182a260",
   "metadata": {},
   "source": [
    "Here is a view of all of our tables in the database:\n",
    "\n",
    "<div align=\"center\" style=\" font-size: 80%; text-align: center; margin: 0 auto\">\n",
    "<img src=\"https://raw.githubusercontent.com/Explore-AI/Pictures/master/Northwind_ERD.png\"  style=\"width:70%\";/>\n",
    "<br>\n",
    "<br>\n",
    "    <em>Figure 1: Northwind database ERD</em>\n",
    "</div>"
   ]
  },
  {
   "attachments": {},
   "cell_type": "markdown",
   "id": "920e89d2",
   "metadata": {
    "tags": []
   },
   "source": [
    "## Overview\n",
    "Run the necessary queries that will provide us with the following information. Compare your queries with the solutions at the end of this notebook.\n"
   ]
  },
  {
   "attachments": {},
   "cell_type": "markdown",
   "id": "86802726",
   "metadata": {},
   "source": [
    "### Exercise 1\n",
    "\n",
    "Using the Northwind database, determine the list of products and their respective suppliers. "
   ]
  },
  {
   "attachments": {},
   "cell_type": "markdown",
   "id": "f0fade51",
   "metadata": {},
   "source": [
    "### Exercise 2\n",
    "\n",
    "Generate a list of all cities where customers and employees are located."
   ]
  },
  {
   "attachments": {},
   "cell_type": "markdown",
   "id": "f28aef00",
   "metadata": {},
   "source": [
    "###  Exercise 3\n",
    "\n",
    "Create a list of all unique cities where customers are located and employees live. "
   ]
  },
  {
   "cell_type": "markdown",
   "id": "d151cbb4",
   "metadata": {},
   "source": [
    "### 4. Challenge question\n",
    "\n",
    "Using the Northwind database, as the new sales analyst, you've been asked to prepare a sales report for the last quarter. Your report should include:\n",
    "1. Customer names and their countries.\n",
    "2. The total amount spent by each customer.\n",
    "3. The list of products each customer purchased.\n",
    "4. The total quantity of each product purchased by each customer.\n",
    "\n",
    "Only include customers who have spent more than 5000 in the last quarter. "
   ]
  },
  {
   "cell_type": "markdown",
   "id": "b3c88335",
   "metadata": {
    "tags": []
   },
   "source": [
    "## Solutions"
   ]
  },
  {
   "attachments": {},
   "cell_type": "markdown",
   "id": "a5084b12",
   "metadata": {
    "tags": []
   },
   "source": [
    "### Exercise 1\n",
    "\n",
    "This query combines rows from `Products` and `Suppliers` tables based on the condition where `Products.SupplierID` equals `Suppliers.SupplierID`.\n",
    "\n",
    "Expected outcome: The result should be a table that includes columns for `ProductName` and `SupplierName` which shows the products and their respective suppliers."
   ]
  },
  {
   "cell_type": "code",
   "execution_count": null,
   "id": "c968d875",
   "metadata": {},
   "outputs": [],
   "source": [
    "%%sql\n",
    "\n",
    "SELECT \n",
    "    product.ProductName, \n",
    "    supplier.CompanyName\n",
    "FROM \n",
    "    Products AS product\n",
    "INNER JOIN \n",
    "    Suppliers AS supplier\n",
    "    ON product.SupplierID = supplier.SupplierID;"
   ]
  },
  {
   "attachments": {},
   "cell_type": "markdown",
   "id": "294d8eef",
   "metadata": {},
   "source": [
    "### Exercise 2\n",
    "\n",
    "The `UNION` operator is used to combine the results of two `SELECT` statements. It removes duplicate rows from the results.\n",
    "\n",
    "Expected outcome: A single column table of unique cities where customers and employees are located."
   ]
  },
  {
   "cell_type": "code",
   "execution_count": null,
   "id": "03071e34",
   "metadata": {},
   "outputs": [],
   "source": [
    "%%sql\n",
    "\n",
    "SELECT \n",
    "    City \n",
    "FROM \n",
    "    Customers\n",
    "UNION\n",
    "SELECT \n",
    "    City \n",
    "FROM \n",
    "    Employees;"
   ]
  },
  {
   "attachments": {},
   "cell_type": "markdown",
   "id": "eafe40b6",
   "metadata": {},
   "source": [
    "###  Exercise 3\n",
    "\n",
    "The `JOIN` query returns cities that are common in both `Customers` and `Employees` tables (i.e. it looks for matches). On the other hand, the `UNION` query returns a list of all unique cities in both tables, eliminating any duplicates.\n",
    "\n",
    "Expected outcome: Two sets of outputs – one for the `JOIN` query and another for the `UNION` query."
   ]
  },
  {
   "cell_type": "code",
   "execution_count": null,
   "id": "1ffd2239",
   "metadata": {},
   "outputs": [],
   "source": [
    "%%sql\n",
    "\n",
    "SELECT \n",
    "    Customers.City \n",
    "FROM \n",
    "    Customers \n",
    "INNER JOIN \n",
    "    Employees \n",
    "    ON Customers.City = Employees.City;\n",
    "\n",
    "\n",
    "SELECT \n",
    "    City \n",
    "FROM \n",
    "    Customers\n",
    "UNION\n",
    "SELECT \n",
    "    City \n",
    "FROM \n",
    "    Employees;"
   ]
  },
  {
   "cell_type": "markdown",
   "id": "b0e27793",
   "metadata": {},
   "source": [
    "### 4. Challenge question"
   ]
  },
  {
   "cell_type": "code",
   "execution_count": null,
   "id": "b2cb2438",
   "metadata": {},
   "outputs": [],
   "source": [
    "%%sql\n",
    "\n",
    "SELECT \n",
    "    customer.ContactName, \n",
    "    customer.Country,\n",
    "    SUM(orderDetails.Quantity * orderDetails.UnitPrice) AS TotalSalesAmount,\n",
    "    product.ProductName,\n",
    "    SUM(orderDetails.Quantity) AS TotalUnitsSold\n",
    "FROM \n",
    "    Customers AS customer\n",
    "JOIN \n",
    "    Orders AS orders \n",
    "    ON customer.CustomerID = orders.CustomerID\n",
    "JOIN \n",
    "    OrderDetails AS orderDetails \n",
    "    ON orders.OrderID = orderDetails.OrderID\n",
    "JOIN \n",
    "    Products AS product \n",
    "    ON orderDetails.ProductID = product.ProductID\n",
    "WHERE \n",
    "    orders.OrderDate BETWEEN '1996-08-01' AND '1998-01-30'\n",
    "GROUP BY \n",
    "    customer.ContactName,\n",
    "    customer.Country, \n",
    "    product.ProductName\n",
    "HAVING \n",
    "    SUM(orderDetails.Quantity * orderDetails.UnitPrice) > 5000;\n"
   ]
  },
  {
   "cell_type": "markdown",
   "id": "0a332e23",
   "metadata": {},
   "source": [
    "This problem involves pulling data from multiple tables (`Customers`, `Orders`, `OrderDetails`, and `Products`) to create a detailed report. It's testing your ability to use `JOINS`, aggregate functions, grouping, and the `HAVING` clause.\n",
    "\n",
    "Here's how to break down the problem:\n",
    "\n",
    "1. **Identify the tables you need to pull data from**: For this problem, you'll need data from the `Customers`, `Orders`, `OrderDetails`, and `Products` tables.\n",
    "2. **Join these tables**: Use SQL joins to connect these tables. The `Orders` table is connected to `Customers` via `CustomerID`. The `OrderDetails` table is connected to `Orders` via `OrderID` and to `Products` via `ProductID`.\n",
    "3. **Filter the data**: Use the `WHERE` clause to filter orders to only include those from the last quarter ('2023-04-01' to '2023-06-30').\n",
    "4. **Aggregate the data**: Aggregate functions are needed to calculate the total amount spent by each customer (SUM of `Quantity` * `UnitPrice`) and the total quantity of each product purchased by each customer (`SUM` of `Quantity`). This is done in the `SELECT` clause.\n",
    "5. **Group the data**: Use the `GROUP BY` clause to segment the data by `CustomerName`, `Country`, and `ProductName`.\n",
    "6. **Apply a condition on an aggregate:** Lastly, use the `HAVING` clause to include only customers who have spent more than 5000 in the last quarter. Remember, when you want to use a condition on an aggregate, you should use the `HAVING` clause, not the `WHERE` clause. The `WHERE` clause is used to filter rows, while the `HAVING` clause is used to filter groups.\n",
    "\n",
    "The result is a detailed report with customer names, their countries, the total amount spent by each customer, the list of products each customer purchased, and the total quantity of each product purchased by each customer for the last quarter. Only customers who spent more than 5000 are included."
   ]
  }
 ],
 "metadata": {
  "kernelspec": {
   "display_name": "Python 3 (ipykernel)",
   "language": "python",
   "name": "python3"
  },
  "language_info": {
   "codemirror_mode": {
    "name": "ipython",
    "version": 3
   },
   "file_extension": ".py",
   "mimetype": "text/x-python",
   "name": "python",
   "nbconvert_exporter": "python",
   "pygments_lexer": "ipython3",
   "version": "3.12.11"
  }
 },
 "nbformat": 4,
 "nbformat_minor": 5
}
